{
 "cells": [
  {
   "cell_type": "code",
   "execution_count": 4,
   "metadata": {},
   "outputs": [
    {
     "name": "stdout",
     "output_type": "stream",
     "text": [
      "b'$2b$12$sn5CT7g6Wpied7xZlBWVj.518vxNtpjb3ETZBcRIBr0R9OV7yPEy6'\n",
      "True\n"
     ]
    }
   ],
   "source": [
    "import bcrypt\n",
    "\n",
    "# Hashing with bcrypt\n",
    "def hash_password_bcrypt(password):\n",
    "    # Convert the password to bytes\n",
    "    password_bytes = password.encode()\n",
    "    # Generate a salt and hash the password\n",
    "    salt = bcrypt.gensalt()\n",
    "    hashed_password = bcrypt.hashpw(password_bytes, salt)\n",
    "    return hashed_password\n",
    "\n",
    "# Verifying a password against a hashed password\n",
    "def check_password_bcrypt(password, hashed_password):\n",
    "    # Convert the password to bytes\n",
    "    password_bytes = password.encode()\n",
    "    # Check if the password matches the hashed password\n",
    "    return bcrypt.checkpw(password_bytes, hashed_password)\n",
    "\n",
    "\n",
    "password = \"my-password\"\n",
    "hashed_password = hash_password_bcrypt(password)\n",
    "print(hashed_password)\n",
    "print(check_password_bcrypt(password, hashed_password))\n"
   ]
  }
 ],
 "metadata": {
  "kernelspec": {
   "display_name": "Python 3",
   "language": "python",
   "name": "python3"
  },
  "language_info": {
   "codemirror_mode": {
    "name": "ipython",
    "version": 3
   },
   "file_extension": ".py",
   "mimetype": "text/x-python",
   "name": "python",
   "nbconvert_exporter": "python",
   "pygments_lexer": "ipython3",
   "version": "3.11.6"
  }
 },
 "nbformat": 4,
 "nbformat_minor": 2
}
