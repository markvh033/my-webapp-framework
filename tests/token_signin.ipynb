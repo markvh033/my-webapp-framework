{
 "cells": [
  {
   "cell_type": "code",
   "execution_count": 10,
   "metadata": {},
   "outputs": [
    {
     "name": "stderr",
     "output_type": "stream",
     "text": [
      "2024-02-29 00:05:31,452:INFO - HTTP Request: POST https://ogzyeworokewpqixuyxi.supabase.co/auth/v1/token?grant_type=password \"HTTP/1.1 200 OK\"\n"
     ]
    },
    {
     "name": "stdout",
     "output_type": "stream",
     "text": [
      "d2503f2b-bbdc-449a-89aa-910200586402\n",
      "eyJhbGciOiJIUzI1NiIsImtpZCI6InZnM2lMa0R3b01yZW5TZ1YiLCJ0eXAiOiJKV1QifQ.eyJhdWQiOiJhdXRoZW50aWNhdGVkIiwiZXhwIjoxNzA5MTY1MTMxLCJpYXQiOjE3MDkxNjE1MzEsImlzcyI6Imh0dHBzOi8vb2d6eWV3b3Jva2V3cHFpeHV5eGkuc3VwYWJhc2UuY28vYXV0aC92MSIsInN1YiI6ImQyNTAzZjJiLWJiZGMtNDQ5YS04OWFhLTkxMDIwMDU4NjQwMiIsImVtYWlsIjoibWFya3ZhbmhleW5pbmdlbkBnbWFpbC5jb20iLCJwaG9uZSI6IiIsImFwcF9tZXRhZGF0YSI6eyJwcm92aWRlciI6ImVtYWlsIiwicHJvdmlkZXJzIjpbImVtYWlsIiwiZ29vZ2xlIl19LCJ1c2VyX21ldGFkYXRhIjp7ImF2YXRhcl91cmwiOiJodHRwczovL2xoMy5nb29nbGV1c2VyY29udGVudC5jb20vYS9BQ2c4b2NLQ0FnMk1fR1RZaUtFd2FNM0xRamVQSVBDbzNnMGhfR2Nlb0JQSlk4Z19iRms9czk2LWMiLCJlbWFpbCI6Im1hcmt2YW5oZXluaW5nZW5AZ21haWwuY29tIiwiZW1haWxfdmVyaWZpZWQiOnRydWUsImZ1bGxfbmFtZSI6Ik1hcmsgdmFuIGhleW5pbmdlbiIsImlzcyI6Imh0dHBzOi8vYWNjb3VudHMuZ29vZ2xlLmNvbSIsIm5hbWUiOiJNYXJrIHZhbiBoZXluaW5nZW4iLCJwaG9uZV92ZXJpZmllZCI6ZmFsc2UsInBpY3R1cmUiOiJodHRwczovL2xoMy5nb29nbGV1c2VyY29udGVudC5jb20vYS9BQ2c4b2NLQ0FnMk1fR1RZaUtFd2FNM0xRamVQSVBDbzNnMGhfR2Nlb0JQSlk4Z19iRms9czk2LWMiLCJwcm92aWRlcl9pZCI6IjEwNzA3ODU2MzQzNzkwMzUwMzg3NyIsInN1YiI6IjEwNzA3ODU2MzQzNzkwMzUwMzg3NyJ9LCJyb2xlIjoiYXV0aGVudGljYXRlZCIsImFhbCI6ImFhbDEiLCJhbXIiOlt7Im1ldGhvZCI6InBhc3N3b3JkIiwidGltZXN0YW1wIjoxNzA5MTYxNTMxfV0sInNlc3Npb25faWQiOiJkMjkwYjg3Yy0wY2Y4LTQxMWQtOTYxMy0wOTY4YzM3MDRiYTEifQ.WT6GbY3zeDuJU75h98SO0NLFjIByV-i_qSIkij-849s\n",
      "None\n"
     ]
    },
    {
     "name": "stderr",
     "output_type": "stream",
     "text": [
      "2024-02-29 10:20:53,161:INFO - HTTP Request: POST https://ogzyeworokewpqixuyxi.supabase.co/auth/v1/token?grant_type=refresh_token \"HTTP/1.1 400 Bad Request\"\n",
      "2024-02-29 10:21:13,237:INFO - HTTP Request: POST https://ogzyeworokewpqixuyxi.supabase.co/auth/v1/token?grant_type=refresh_token \"HTTP/1.1 400 Bad Request\"\n",
      "2024-02-29 10:21:27,917:INFO - HTTP Request: POST https://ogzyeworokewpqixuyxi.supabase.co/auth/v1/token?grant_type=refresh_token \"HTTP/1.1 400 Bad Request\"\n",
      "2024-02-29 10:21:34,961:INFO - HTTP Request: POST https://ogzyeworokewpqixuyxi.supabase.co/auth/v1/token?grant_type=refresh_token \"HTTP/1.1 400 Bad Request\"\n",
      "2024-02-29 10:22:59,458:INFO - HTTP Request: POST https://ogzyeworokewpqixuyxi.supabase.co/auth/v1/token?grant_type=refresh_token \"HTTP/1.1 400 Bad Request\"\n",
      "2024-02-29 10:23:22,495:INFO - HTTP Request: POST https://ogzyeworokewpqixuyxi.supabase.co/auth/v1/token?grant_type=refresh_token \"HTTP/1.1 400 Bad Request\"\n",
      "2024-02-29 10:24:04,486:INFO - HTTP Request: POST https://ogzyeworokewpqixuyxi.supabase.co/auth/v1/token?grant_type=refresh_token \"HTTP/1.1 400 Bad Request\"\n",
      "2024-02-29 10:24:14,087:INFO - HTTP Request: POST https://ogzyeworokewpqixuyxi.supabase.co/auth/v1/token?grant_type=refresh_token \"HTTP/1.1 400 Bad Request\"\n"
     ]
    }
   ],
   "source": [
    "\n",
    "from supabase import create_client, Client\n",
    "\n",
    "import os\n",
    "\n",
    "\n",
    "def create_access_token(email: str, password: str) -> str:\n",
    "    # Your Supabase project URL and public anon key\n",
    "    SUPABASE_URL = os.getenv('SUPABASE_URL')\n",
    "    # Your Supabase anon/public key\n",
    "    SUPABASE_KEY =os.getenv('SUPABASE_KEY')\n",
    "\n",
    "    # Create a Supabase client instance\n",
    "    supabase: Client = create_client(SUPABASE_URL, SUPABASE_KEY)\n",
    "\n",
    "    # Sign in the user with email and password\n",
    "    result = supabase.auth.sign_in_with_password({'email': email, 'password': password})\n",
    "\n",
    "    # Check if sign in was successful and retrieve the access token\n",
    "    print(result.user.id)\n",
    "    print(result.session.access_token)\n",
    "\n",
    "    #return access_token\n",
    "\n",
    "print(create_access_token('markvanheyningen@gmail.com', 'rn8#LX&HrV8PChiF'))\n"
   ]
  }
 ],
 "metadata": {
  "kernelspec": {
   "display_name": "Python 3",
   "language": "python",
   "name": "python3"
  },
  "language_info": {
   "name": "python",
   "version": "3.11.6"
  }
 },
 "nbformat": 4,
 "nbformat_minor": 2
}
